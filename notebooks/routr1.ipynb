{
 "cells": [
  {
   "cell_type": "code",
   "execution_count": null,
   "id": "915fc69d",
   "metadata": {},
   "outputs": [],
   "source": [
    "#Routr project\n",
    "\n",
    "#The goal is to design an app that plans a route through Madison/Boulder for you based off of bike lanes using Dijkstra's\n",
    "#Or a Euler trail for certain destinations for sightseeing."
   ]
  },
  {
   "cell_type": "code",
   "execution_count": null,
   "id": "081558e8",
   "metadata": {},
   "outputs": [],
   "source": [
    "import pyproj\n",
    "print(pyproj.datadir.get_data_dir())"
   ]
  },
  {
   "cell_type": "code",
   "execution_count": null,
   "id": "69d57ddb",
   "metadata": {},
   "outputs": [],
   "source": [
    "import os\n",
    "# Replace the path with your actual proj directory\n",
    "\n",
    "\n",
    "# Now you can import your libraries\n",
    "import geopandas\n",
    "import osmnx as ox\n",
    "import networkx as nx\n",
    "\n",
    "# os.environ['PROJ_LIB'] = r'C:/Users/monke/miniconda3/envs/routr_app/Library/share/proj'"
   ]
  },
  {
   "cell_type": "code",
   "execution_count": null,
   "id": "b0ae69d9",
   "metadata": {},
   "outputs": [],
   "source": [
    "#Would I want node classes or path classes?"
   ]
  },
  {
   "cell_type": "code",
   "execution_count": null,
   "id": "fe8e40b4",
   "metadata": {},
   "outputs": [],
   "source": [
    "class bike_node:\n",
    "    def __init__(self, node_id, lat, long):\n",
    "        self.id = node_id\n",
    "        self.position = (lat, long)\n",
    "\n",
    "    def __repr__(self):\n",
    "        return f\"Node({self.id})\""
   ]
  },
  {
   "cell_type": "code",
   "execution_count": null,
   "id": "f9987978",
   "metadata": {},
   "outputs": [],
   "source": [
    "class CyclewayGraph:\n",
    "    \n",
    "    def __init__(self, node_count, node_ids, cycleways, , ):"
   ]
  },
  {
   "cell_type": "code",
   "execution_count": null,
   "id": "1d1cea6d",
   "metadata": {},
   "outputs": [],
   "source": [
    "msn_bike_data = ox.graph_from_place(query = 'Madison, Wisconsin', network_type= 'bike')"
   ]
  },
  {
   "cell_type": "code",
   "execution_count": null,
   "id": "e9bc6689",
   "metadata": {},
   "outputs": [],
   "source": [
    "bike_gdf_nodes, bike_gdf_edges = ox.graph_to_gdfs(msn_bike_data)"
   ]
  },
  {
   "cell_type": "code",
   "execution_count": null,
   "id": "e26c3b1c",
   "metadata": {},
   "outputs": [],
   "source": [
    "# bike_gdf_nodes.loc[bike_gdf_nodes.loc[:,'street_count']==1 & bike_gdf_nodes.loc[:,'highway'] == 'turning_circle'] \n",
    "# bike_gdf_nodes.loc[bike_gdf_nodes.loc[:,'highway'] == 'turning_circle']\n",
    "\n",
    "msn_cycleways = bike_gdf_edges.loc[bike_gdf_edges.loc[:,'highway']=='cycleway']"
   ]
  },
  {
   "cell_type": "code",
   "execution_count": null,
   "id": "735a11fa",
   "metadata": {},
   "outputs": [],
   "source": [
    "# bike_gdf_nodes.loc[bike_gdf_nodes.loc[:,'highway'] == 'cycleway']\n",
    "bike_gdf_nodes.loc[:,'highway'].unique()"
   ]
  },
  {
   "cell_type": "code",
   "execution_count": null,
   "id": "174faa6f",
   "metadata": {},
   "outputs": [],
   "source": [
    "bike_gdf_nodes[bike_gdf_nodes.loc[:,] == msn_cycleways.iloc[0,0]]\n",
    "# bike_gdf_nodes"
   ]
  },
  {
   "cell_type": "code",
   "execution_count": null,
   "id": "06600dd4",
   "metadata": {},
   "outputs": [],
   "source": [
    "bike_gdf_nodes[bike_gdf_nodes.index == 29983388]"
   ]
  },
  {
   "cell_type": "code",
   "execution_count": null,
   "id": "545b5e70",
   "metadata": {},
   "outputs": [],
   "source": [
    "msn_cycleways.iloc[0,0]"
   ]
  }
 ],
 "metadata": {
  "kernelspec": {
   "display_name": "routr_app",
   "language": "python",
   "name": "python3"
  },
  "language_info": {
   "codemirror_mode": {
    "name": "ipython",
    "version": 3
   },
   "file_extension": ".py",
   "mimetype": "text/x-python",
   "name": "python",
   "nbconvert_exporter": "python",
   "pygments_lexer": "ipython3",
   "version": "3.12.11"
  }
 },
 "nbformat": 4,
 "nbformat_minor": 5
}
