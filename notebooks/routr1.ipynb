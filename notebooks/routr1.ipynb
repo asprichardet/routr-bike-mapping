{
 "cells": [
  {
   "cell_type": "code",
   "execution_count": null,
   "id": "915fc69d",
   "metadata": {},
   "outputs": [],
   "source": [
    "#Routr project\n",
    "\n",
    "#The goal is to design an app that plans a route through Madison/Boulder for you based off of bike lanes using Dijkstra's\n",
    "#Or a Euler trail for certain destinations for sightseeing."
   ]
  },
  {
   "cell_type": "code",
   "execution_count": 2,
   "id": "69d57ddb",
   "metadata": {},
   "outputs": [],
   "source": [
    "import os\n",
    "# Replace the path with your actual proj directory\n",
    "\n",
    "\n",
    "# Now you can import your libraries\n",
    "import geopandas\n",
    "import osmnx as ox\n",
    "import networkx as nx\n",
    "\n",
    "# os.environ['PROJ_LIB'] = r'C:/Users/monke/miniconda3/envs/routr_app/Library/share/proj'"
   ]
  },
  {
   "cell_type": "code",
   "execution_count": 5,
   "id": "ad2c923a",
   "metadata": {},
   "outputs": [],
   "source": [
    "import heapq as hq"
   ]
  },
  {
   "cell_type": "code",
   "execution_count": null,
   "id": "b0ae69d9",
   "metadata": {},
   "outputs": [],
   "source": [
    "#Would I want node classes or path classes?"
   ]
  },
  {
   "cell_type": "code",
   "execution_count": 2,
   "id": "fe8e40b4",
   "metadata": {},
   "outputs": [],
   "source": [
    "class bike_node:\n",
    "    def __init__(self, node_id, lat, long):\n",
    "        self.id = node_id\n",
    "        self.position = (lat, long)\n",
    "\n",
    "    def __repr__(self):\n",
    "        return f\"Node({self.id})\""
   ]
  },
  {
   "cell_type": "code",
   "execution_count": 3,
   "id": "f9987978",
   "metadata": {},
   "outputs": [],
   "source": [
    "class CyclewayGraph:\n",
    "    \n",
    "    def __init__(self, city, node_count, node_ids, cycleways, edge_count, edge_ids):\n",
    "        self.id = city\n",
    "        self.node_length = f\"node_count: {node_count}\"\n",
    "        self.edge_length = f\"edge_count: {edge_count}\"\n",
    "        self.node_ids = node_ids\n",
    "        self.edge_ids = edge_ids\n",
    "\n"
   ]
  },
  {
   "cell_type": "code",
   "execution_count": 4,
   "id": "1d1cea6d",
   "metadata": {},
   "outputs": [],
   "source": [
    "msn_bike_data = ox.graph_from_place(query = 'Madison, Wisconsin', network_type= 'bike')"
   ]
  },
  {
   "cell_type": "code",
   "execution_count": 5,
   "id": "e9bc6689",
   "metadata": {},
   "outputs": [],
   "source": [
    "bike_gdf_nodes, bike_gdf_edges = ox.graph_to_gdfs(msn_bike_data)"
   ]
  },
  {
   "cell_type": "code",
   "execution_count": 6,
   "id": "e26c3b1c",
   "metadata": {},
   "outputs": [],
   "source": [
    "msn_cycleway_edges = bike_gdf_edges.loc[bike_gdf_edges.loc[:,'highway']=='cycleway']"
   ]
  },
  {
   "cell_type": "code",
   "execution_count": 7,
   "id": "46ebba8a",
   "metadata": {},
   "outputs": [
    {
     "data": {
      "text/html": [
       "<div>\n",
       "<style scoped>\n",
       "    .dataframe tbody tr th:only-of-type {\n",
       "        vertical-align: middle;\n",
       "    }\n",
       "\n",
       "    .dataframe tbody tr th {\n",
       "        vertical-align: top;\n",
       "    }\n",
       "\n",
       "    .dataframe thead th {\n",
       "        text-align: right;\n",
       "    }\n",
       "</style>\n",
       "<table border=\"1\" class=\"dataframe\">\n",
       "  <thead>\n",
       "    <tr style=\"text-align: right;\">\n",
       "      <th></th>\n",
       "      <th>y</th>\n",
       "      <th>x</th>\n",
       "      <th>street_count</th>\n",
       "      <th>highway</th>\n",
       "      <th>railway</th>\n",
       "      <th>junction</th>\n",
       "      <th>ref</th>\n",
       "      <th>geometry</th>\n",
       "    </tr>\n",
       "    <tr>\n",
       "      <th>osmid</th>\n",
       "      <th></th>\n",
       "      <th></th>\n",
       "      <th></th>\n",
       "      <th></th>\n",
       "      <th></th>\n",
       "      <th></th>\n",
       "      <th></th>\n",
       "      <th></th>\n",
       "    </tr>\n",
       "  </thead>\n",
       "  <tbody>\n",
       "    <tr>\n",
       "      <th>29983388</th>\n",
       "      <td>43.055465</td>\n",
       "      <td>-89.503097</td>\n",
       "      <td>3</td>\n",
       "      <td>NaN</td>\n",
       "      <td>NaN</td>\n",
       "      <td>NaN</td>\n",
       "      <td>NaN</td>\n",
       "      <td>POINT (-89.5031 43.05547)</td>\n",
       "    </tr>\n",
       "    <tr>\n",
       "      <th>30004439</th>\n",
       "      <td>43.121844</td>\n",
       "      <td>-89.355107</td>\n",
       "      <td>4</td>\n",
       "      <td>crossing</td>\n",
       "      <td>NaN</td>\n",
       "      <td>NaN</td>\n",
       "      <td>NaN</td>\n",
       "      <td>POINT (-89.35511 43.12184)</td>\n",
       "    </tr>\n",
       "    <tr>\n",
       "      <th>30004443</th>\n",
       "      <td>43.118693</td>\n",
       "      <td>-89.355135</td>\n",
       "      <td>4</td>\n",
       "      <td>NaN</td>\n",
       "      <td>NaN</td>\n",
       "      <td>NaN</td>\n",
       "      <td>NaN</td>\n",
       "      <td>POINT (-89.35513 43.11869)</td>\n",
       "    </tr>\n",
       "    <tr>\n",
       "      <th>30052852</th>\n",
       "      <td>43.081743</td>\n",
       "      <td>-89.474427</td>\n",
       "      <td>3</td>\n",
       "      <td>NaN</td>\n",
       "      <td>NaN</td>\n",
       "      <td>NaN</td>\n",
       "      <td>NaN</td>\n",
       "      <td>POINT (-89.47443 43.08174)</td>\n",
       "    </tr>\n",
       "    <tr>\n",
       "      <th>30052853</th>\n",
       "      <td>43.083103</td>\n",
       "      <td>-89.476018</td>\n",
       "      <td>4</td>\n",
       "      <td>NaN</td>\n",
       "      <td>NaN</td>\n",
       "      <td>NaN</td>\n",
       "      <td>NaN</td>\n",
       "      <td>POINT (-89.47602 43.0831)</td>\n",
       "    </tr>\n",
       "    <tr>\n",
       "      <th>...</th>\n",
       "      <td>...</td>\n",
       "      <td>...</td>\n",
       "      <td>...</td>\n",
       "      <td>...</td>\n",
       "      <td>...</td>\n",
       "      <td>...</td>\n",
       "      <td>...</td>\n",
       "      <td>...</td>\n",
       "    </tr>\n",
       "    <tr>\n",
       "      <th>13113870131</th>\n",
       "      <td>43.071970</td>\n",
       "      <td>-89.382412</td>\n",
       "      <td>1</td>\n",
       "      <td>NaN</td>\n",
       "      <td>NaN</td>\n",
       "      <td>NaN</td>\n",
       "      <td>NaN</td>\n",
       "      <td>POINT (-89.38241 43.07197)</td>\n",
       "    </tr>\n",
       "    <tr>\n",
       "      <th>13113870133</th>\n",
       "      <td>43.071884</td>\n",
       "      <td>-89.382296</td>\n",
       "      <td>3</td>\n",
       "      <td>NaN</td>\n",
       "      <td>NaN</td>\n",
       "      <td>NaN</td>\n",
       "      <td>NaN</td>\n",
       "      <td>POINT (-89.3823 43.07188)</td>\n",
       "    </tr>\n",
       "    <tr>\n",
       "      <th>13114941682</th>\n",
       "      <td>43.034837</td>\n",
       "      <td>-89.551771</td>\n",
       "      <td>3</td>\n",
       "      <td>NaN</td>\n",
       "      <td>NaN</td>\n",
       "      <td>NaN</td>\n",
       "      <td>NaN</td>\n",
       "      <td>POINT (-89.55177 43.03484)</td>\n",
       "    </tr>\n",
       "    <tr>\n",
       "      <th>13114975988</th>\n",
       "      <td>43.037359</td>\n",
       "      <td>-89.560336</td>\n",
       "      <td>3</td>\n",
       "      <td>NaN</td>\n",
       "      <td>NaN</td>\n",
       "      <td>NaN</td>\n",
       "      <td>NaN</td>\n",
       "      <td>POINT (-89.56034 43.03736)</td>\n",
       "    </tr>\n",
       "    <tr>\n",
       "      <th>13114975989</th>\n",
       "      <td>43.039264</td>\n",
       "      <td>-89.560187</td>\n",
       "      <td>3</td>\n",
       "      <td>NaN</td>\n",
       "      <td>NaN</td>\n",
       "      <td>NaN</td>\n",
       "      <td>NaN</td>\n",
       "      <td>POINT (-89.56019 43.03926)</td>\n",
       "    </tr>\n",
       "  </tbody>\n",
       "</table>\n",
       "<p>30653 rows × 8 columns</p>\n",
       "</div>"
      ],
      "text/plain": [
       "                     y          x  street_count   highway railway junction  \\\n",
       "osmid                                                                        \n",
       "29983388     43.055465 -89.503097             3       NaN     NaN      NaN   \n",
       "30004439     43.121844 -89.355107             4  crossing     NaN      NaN   \n",
       "30004443     43.118693 -89.355135             4       NaN     NaN      NaN   \n",
       "30052852     43.081743 -89.474427             3       NaN     NaN      NaN   \n",
       "30052853     43.083103 -89.476018             4       NaN     NaN      NaN   \n",
       "...                ...        ...           ...       ...     ...      ...   \n",
       "13113870131  43.071970 -89.382412             1       NaN     NaN      NaN   \n",
       "13113870133  43.071884 -89.382296             3       NaN     NaN      NaN   \n",
       "13114941682  43.034837 -89.551771             3       NaN     NaN      NaN   \n",
       "13114975988  43.037359 -89.560336             3       NaN     NaN      NaN   \n",
       "13114975989  43.039264 -89.560187             3       NaN     NaN      NaN   \n",
       "\n",
       "             ref                    geometry  \n",
       "osmid                                         \n",
       "29983388     NaN   POINT (-89.5031 43.05547)  \n",
       "30004439     NaN  POINT (-89.35511 43.12184)  \n",
       "30004443     NaN  POINT (-89.35513 43.11869)  \n",
       "30052852     NaN  POINT (-89.47443 43.08174)  \n",
       "30052853     NaN   POINT (-89.47602 43.0831)  \n",
       "...          ...                         ...  \n",
       "13113870131  NaN  POINT (-89.38241 43.07197)  \n",
       "13113870133  NaN   POINT (-89.3823 43.07188)  \n",
       "13114941682  NaN  POINT (-89.55177 43.03484)  \n",
       "13114975988  NaN  POINT (-89.56034 43.03736)  \n",
       "13114975989  NaN  POINT (-89.56019 43.03926)  \n",
       "\n",
       "[30653 rows x 8 columns]"
      ]
     },
     "execution_count": 7,
     "metadata": {},
     "output_type": "execute_result"
    }
   ],
   "source": [
    "bike_gdf_nodes"
   ]
  },
  {
   "cell_type": "code",
   "execution_count": null,
   "id": "e973605e",
   "metadata": {},
   "outputs": [],
   "source": [
    "def find_shortest_path(point_a, point_b):\n",
    "    \"\"\"\n",
    "        This function takes two nodes within the a graph object and finds the shortest path\n",
    "        between them using Dijkstra's algorith. \n",
    "\n",
    "        This then returns a path from A to B.\n",
    "    \"\"\"\n",
    "    visited_nodes = {}\n",
    "\n",
    "    for node in msn_cycleway_edges.loc[point_a].index: #iterate over each node point_a is connected to \n",
    "        edge = msn_cycleway_edges.loc[node[0]] #use nodes from point_a to find which edges they connect to \n",
    "        print(edge.loc[:,'length'])\n",
    "        edge_length = edge.loc[:,'length']\n",
    "        return edge_length\n",
    "        \n",
    "    \n"
   ]
  },
  {
   "cell_type": "code",
   "execution_count": 122,
   "id": "2d6f41a4",
   "metadata": {},
   "outputs": [
    {
     "name": "stdout",
     "output_type": "stream",
     "text": [
      "v            key\n",
      "13107812002  0       82.295822\n",
      "13107812003  0      105.591703\n",
      "Name: length, dtype: float64\n"
     ]
    }
   ],
   "source": [
    "test_edge = find_shortest_path(13107812002, 13107812003)"
   ]
  },
  {
   "cell_type": "code",
   "execution_count": 124,
   "id": "311849d8",
   "metadata": {},
   "outputs": [
    {
     "data": {
      "text/plain": [
       "v            key\n",
       "13107812002  0       82.295822\n",
       "13107812003  0      105.591703\n",
       "Name: length, dtype: float64"
      ]
     },
     "execution_count": 124,
     "metadata": {},
     "output_type": "execute_result"
    }
   ],
   "source": [
    "test_edge\n",
    "# test_edge[(13107812002, 0)]"
   ]
  },
  {
   "cell_type": "code",
   "execution_count": 83,
   "id": "836ac52d",
   "metadata": {},
   "outputs": [
    {
     "data": {
      "text/html": [
       "<div>\n",
       "<style scoped>\n",
       "    .dataframe tbody tr th:only-of-type {\n",
       "        vertical-align: middle;\n",
       "    }\n",
       "\n",
       "    .dataframe tbody tr th {\n",
       "        vertical-align: top;\n",
       "    }\n",
       "\n",
       "    .dataframe thead th {\n",
       "        text-align: right;\n",
       "    }\n",
       "</style>\n",
       "<table border=\"1\" class=\"dataframe\">\n",
       "  <thead>\n",
       "    <tr style=\"text-align: right;\">\n",
       "      <th></th>\n",
       "      <th></th>\n",
       "      <th>osmid</th>\n",
       "      <th>highway</th>\n",
       "      <th>maxspeed</th>\n",
       "      <th>name</th>\n",
       "      <th>oneway</th>\n",
       "      <th>reversed</th>\n",
       "      <th>length</th>\n",
       "      <th>geometry</th>\n",
       "      <th>lanes</th>\n",
       "      <th>ref</th>\n",
       "      <th>service</th>\n",
       "      <th>width</th>\n",
       "      <th>access</th>\n",
       "      <th>bridge</th>\n",
       "      <th>junction</th>\n",
       "      <th>tunnel</th>\n",
       "    </tr>\n",
       "    <tr>\n",
       "      <th>v</th>\n",
       "      <th>key</th>\n",
       "      <th></th>\n",
       "      <th></th>\n",
       "      <th></th>\n",
       "      <th></th>\n",
       "      <th></th>\n",
       "      <th></th>\n",
       "      <th></th>\n",
       "      <th></th>\n",
       "      <th></th>\n",
       "      <th></th>\n",
       "      <th></th>\n",
       "      <th></th>\n",
       "      <th></th>\n",
       "      <th></th>\n",
       "      <th></th>\n",
       "      <th></th>\n",
       "    </tr>\n",
       "  </thead>\n",
       "  <tbody>\n",
       "    <tr>\n",
       "      <th>13107812002</th>\n",
       "      <th>0</th>\n",
       "      <td>1425929460</td>\n",
       "      <td>cycleway</td>\n",
       "      <td>NaN</td>\n",
       "      <td>NaN</td>\n",
       "      <td>False</td>\n",
       "      <td>False</td>\n",
       "      <td>82.295822</td>\n",
       "      <td>LINESTRING (-89.28029 43.10917, -89.2804 43.10...</td>\n",
       "      <td>NaN</td>\n",
       "      <td>NaN</td>\n",
       "      <td>NaN</td>\n",
       "      <td>NaN</td>\n",
       "      <td>NaN</td>\n",
       "      <td>NaN</td>\n",
       "      <td>NaN</td>\n",
       "      <td>NaN</td>\n",
       "    </tr>\n",
       "    <tr>\n",
       "      <th>13107812003</th>\n",
       "      <th>0</th>\n",
       "      <td>1425929460</td>\n",
       "      <td>cycleway</td>\n",
       "      <td>NaN</td>\n",
       "      <td>NaN</td>\n",
       "      <td>False</td>\n",
       "      <td>True</td>\n",
       "      <td>105.591703</td>\n",
       "      <td>LINESTRING (-89.28029 43.10917, -89.28019 43.1...</td>\n",
       "      <td>NaN</td>\n",
       "      <td>NaN</td>\n",
       "      <td>NaN</td>\n",
       "      <td>NaN</td>\n",
       "      <td>NaN</td>\n",
       "      <td>NaN</td>\n",
       "      <td>NaN</td>\n",
       "      <td>NaN</td>\n",
       "    </tr>\n",
       "  </tbody>\n",
       "</table>\n",
       "</div>"
      ],
      "text/plain": [
       "                      osmid   highway maxspeed name  oneway reversed  \\\n",
       "v           key                                                        \n",
       "13107812002 0    1425929460  cycleway      NaN  NaN   False    False   \n",
       "13107812003 0    1425929460  cycleway      NaN  NaN   False     True   \n",
       "\n",
       "                     length  \\\n",
       "v           key               \n",
       "13107812002 0     82.295822   \n",
       "13107812003 0    105.591703   \n",
       "\n",
       "                                                          geometry lanes  ref  \\\n",
       "v           key                                                                 \n",
       "13107812002 0    LINESTRING (-89.28029 43.10917, -89.2804 43.10...   NaN  NaN   \n",
       "13107812003 0    LINESTRING (-89.28029 43.10917, -89.28019 43.1...   NaN  NaN   \n",
       "\n",
       "                service width access bridge junction tunnel  \n",
       "v           key                                              \n",
       "13107812002 0       NaN   NaN    NaN    NaN      NaN    NaN  \n",
       "13107812003 0       NaN   NaN    NaN    NaN      NaN    NaN  "
      ]
     },
     "execution_count": 83,
     "metadata": {},
     "output_type": "execute_result"
    }
   ],
   "source": [
    "msn_cycleway_edges.loc[node[0]]\n",
    "# node[0]"
   ]
  },
  {
   "cell_type": "code",
   "execution_count": 8,
   "id": "174faa6f",
   "metadata": {},
   "outputs": [
    {
     "ename": "NameError",
     "evalue": "name 'msn_cycleways' is not defined",
     "output_type": "error",
     "traceback": [
      "\u001b[31m---------------------------------------------------------------------------\u001b[39m",
      "\u001b[31mNameError\u001b[39m                                 Traceback (most recent call last)",
      "\u001b[36mCell\u001b[39m\u001b[36m \u001b[39m\u001b[32mIn[8]\u001b[39m\u001b[32m, line 1\u001b[39m\n\u001b[32m----> \u001b[39m\u001b[32m1\u001b[39m bike_gdf_nodes[bike_gdf_nodes.loc[:,] == \u001b[43mmsn_cycleways\u001b[49m.iloc[\u001b[32m0\u001b[39m,\u001b[32m0\u001b[39m]]\n\u001b[32m      2\u001b[39m \u001b[38;5;66;03m# bike_gdf_nodes\u001b[39;00m\n",
      "\u001b[31mNameError\u001b[39m: name 'msn_cycleways' is not defined"
     ]
    }
   ],
   "source": [
    "bike_gdf_nodes[bike_gdf_nodes.loc[:,] == msn_cycleways.iloc[0,0]]\n",
    "# bike_gdf_nodes"
   ]
  },
  {
   "cell_type": "code",
   "execution_count": 73,
   "id": "d3fdba7b",
   "metadata": {},
   "outputs": [
    {
     "data": {
      "text/plain": [
       "(np.int64(13107812002), np.int64(0))"
      ]
     },
     "execution_count": 73,
     "metadata": {},
     "output_type": "execute_result"
    }
   ],
   "source": [
    "#Find two nodes to travel between for the function.\n",
    "#Can index the edges by starting vertex to find other options,\n",
    "#Use this (with recursion?)/while loop to implement dijkstra's\n",
    "#Do I need the nodes at all?\n",
    "# msn_cycleway_edges.loc[13107812002]\n",
    "msn_cycleway_edges.loc[13107783597].index[0]\n",
    "# msn_cycleway_edges.loc[13107812003]\n",
    "# msn_cycleway_edges.loc[13107783584]\n"
   ]
  },
  {
   "cell_type": "code",
   "execution_count": 51,
   "id": "e089c7c7",
   "metadata": {},
   "outputs": [
    {
     "name": "stdout",
     "output_type": "stream",
     "text": [
      "13107812002\n",
      "13107812003\n"
     ]
    }
   ],
   "source": [
    "for index in msn_cycleway_edges.loc[13107783597].index:\n",
    "    print(index[0])"
   ]
  },
  {
   "cell_type": "code",
   "execution_count": null,
   "id": "dafb3256",
   "metadata": {},
   "outputs": [],
   "source": [
    "#The end goal is to return a path (no repeated vertices or edges) from a point A to a point B."
   ]
  }
 ],
 "metadata": {
  "kernelspec": {
   "display_name": "routr_app",
   "language": "python",
   "name": "python3"
  },
  "language_info": {
   "codemirror_mode": {
    "name": "ipython",
    "version": 3
   },
   "file_extension": ".py",
   "mimetype": "text/x-python",
   "name": "python",
   "nbconvert_exporter": "python",
   "pygments_lexer": "ipython3",
   "version": "3.12.11"
  }
 },
 "nbformat": 4,
 "nbformat_minor": 5
}
